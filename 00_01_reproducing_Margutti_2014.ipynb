{
 "cells": [
  {
   "cell_type": "code",
   "execution_count": null,
   "metadata": {
    "collapsed": true
   },
   "outputs": [],
   "source": [
    "import numpy as np"
   ]
  },
  {
   "cell_type": "code",
   "execution_count": null,
   "metadata": {
    "collapsed": true
   },
   "outputs": [],
   "source": [
    "# Data from Margutti et al. 2014\n",
    "# 56200 MJD\n",
    "\n",
    "band = np.array(['UVW2', 'UVM2', 'UVW1', 'U', 'B', 'V', 'R', 'I', 'J', 'H', 'KS'])\n",
    "wavelength = np.array([])\n",
    "MJD = np.array([56200.99, 56200.99, 56200.98, 56200.98, 56200.98, 56200.99, 56199.50, 56200.00, 56213.19, 56213.19, 56213.19])\n",
    "mag = np.array([12.20, 12.10, 12.30, 12.65, 13.94, 14.14, 14.01, 13.97, 13.53, 13.37, 13.25])\n",
    "emag = np.array([0.04, 0.04, 0.04, 0.04, 0.05, 0.05, 0.01, 0.06, 0.01, 0.02, 0.05])\n"
   ]
  }
 ],
 "metadata": {
  "kernelspec": {
   "display_name": "Python 3",
   "language": "python",
   "name": "python3"
  },
  "language_info": {
   "codemirror_mode": {
    "name": "ipython",
    "version": 3
   },
   "file_extension": ".py",
   "mimetype": "text/x-python",
   "name": "python",
   "nbconvert_exporter": "python",
   "pygments_lexer": "ipython3",
   "version": "3.6.3"
  }
 },
 "nbformat": 4,
 "nbformat_minor": 2
}
