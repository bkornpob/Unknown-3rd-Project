{
 "cells": [
  {
   "cell_type": "markdown",
   "metadata": {},
   "source": [
    "# Load and output\n",
    "- Load SN 2009ip from https://api.sne.space\n",
    "- Clean\n",
    "- Output to 01_01_sn2009ip_clean.dat"
   ]
  },
  {
   "cell_type": "code",
   "execution_count": 1,
   "metadata": {
    "collapsed": true
   },
   "outputs": [],
   "source": [
    "import pandas as pd\n",
    "\n",
    "# load data\n",
    "sn = pd.read_csv('https://api.sne.space/SN2009ip/photometry/time+u_time+instrument+telescope+model+realization+magnitude+e_magnitude+zeropoint+band+bandset+system+upperlimit+kcorrected+scorrected+mcorrected?format=csv')"
   ]
  },
  {
   "cell_type": "code",
   "execution_count": 2,
   "metadata": {},
   "outputs": [
    {
     "name": "stdout",
     "output_type": "stream",
     "text": [
      "1615\n",
      "RangeIndex(start=0, stop=1615, step=1)\n",
      "Index(['event', 'time', 'u_time', 'instrument', 'telescope', 'model',\n",
      "       'realization', 'magnitude', 'e_magnitude', 'zeropoint', 'band',\n",
      "       'bandset', 'system', 'upperlimit', 'kcorrected', 'scorrected',\n",
      "       'mcorrected'],\n",
      "      dtype='object')\n",
      "<bound method NDFrame.head of          event        time u_time instrument telescope  model  realization  \\\n",
      "0     SN2009ip  55073.6000    MJD        NaN       NaN    NaN          NaN   \n",
      "1     SN2009ip  55073.6400    MJD        NaN       NaN    NaN          NaN   \n",
      "2     SN2009ip  55073.7400    MJD        NaN       NaN    NaN          NaN   \n",
      "3     SN2009ip  55080.4200    MJD        NaN       NaN    NaN          NaN   \n",
      "4     SN2009ip  55081.0600    MJD        NaN       NaN    NaN          NaN   \n",
      "5     SN2009ip  55081.0600    MJD        NaN       NaN    NaN          NaN   \n",
      "6     SN2009ip  55081.5000    MJD        NaN       NaN    NaN          NaN   \n",
      "7     SN2009ip  55081.5200    MJD        NaN       NaN    NaN          NaN   \n",
      "8     SN2009ip  55081.5300    MJD        NaN       NaN    NaN          NaN   \n",
      "9     SN2009ip  55082.9300    MJD        NaN       NaN    NaN          NaN   \n",
      "10    SN2009ip  55083.3000    MJD        NaN       NaN    NaN          NaN   \n",
      "11    SN2009ip  55083.5300    MJD        NaN       NaN    NaN          NaN   \n",
      "12    SN2009ip  55083.5600    MJD        NaN       NaN    NaN          NaN   \n",
      "13    SN2009ip  55084.4900    MJD        NaN       NaN    NaN          NaN   \n",
      "14    SN2009ip  55084.6734    MJD       UVOT     Swift    NaN          NaN   \n",
      "15    SN2009ip  55084.6756    MJD       UVOT     Swift    NaN          NaN   \n",
      "16    SN2009ip  55084.6769    MJD       UVOT     Swift    NaN          NaN   \n",
      "17    SN2009ip  55084.6799    MJD       UVOT     Swift    NaN          NaN   \n",
      "18    SN2009ip  55084.6835    MJD       UVOT     Swift    NaN          NaN   \n",
      "19    SN2009ip  55084.6858    MJD       UVOT     Swift    NaN          NaN   \n",
      "20    SN2009ip  55084.9200    MJD        NaN       NaN    NaN          NaN   \n",
      "21    SN2009ip  55087.0400    MJD        NaN       NaN    NaN          NaN   \n",
      "22    SN2009ip  55087.0400    MJD        NaN       NaN    NaN          NaN   \n",
      "23    SN2009ip  55087.0400    MJD        NaN       NaN    NaN          NaN   \n",
      "24    SN2009ip  55087.6000    MJD        NaN       NaN    NaN          NaN   \n",
      "25    SN2009ip  55088.4800    MJD        NaN       NaN    NaN          NaN   \n",
      "26    SN2009ip  55088.9200    MJD        NaN       NaN    NaN          NaN   \n",
      "27    SN2009ip  55089.0300    MJD        NaN       NaN    NaN          NaN   \n",
      "28    SN2009ip  55089.0300    MJD        NaN       NaN    NaN          NaN   \n",
      "29    SN2009ip  55089.0300    MJD        NaN       NaN    NaN          NaN   \n",
      "...        ...         ...    ...        ...       ...    ...          ...   \n",
      "1585  SN2009ip  56776.3800    MJD      EFOSC       NTT    NaN          NaN   \n",
      "1586  SN2009ip  56776.3800    MJD      EFOSC       NTT    NaN          NaN   \n",
      "1587  SN2009ip  56776.3800    MJD      EFOSC       NTT    NaN          NaN   \n",
      "1588  SN2009ip  56782.3700    MJD      EFOSC       NTT    NaN          NaN   \n",
      "1589  SN2009ip  56782.3700    MJD      EFOSC       NTT    NaN          NaN   \n",
      "1590  SN2009ip  56782.3700    MJD      EFOSC       NTT    NaN          NaN   \n",
      "1591  SN2009ip  56782.3700    MJD      EFOSC       NTT    NaN          NaN   \n",
      "1592  SN2009ip  56885.1200    MJD      EFOSC       NTT    NaN          NaN   \n",
      "1593  SN2009ip  56885.1200    MJD      EFOSC       NTT    NaN          NaN   \n",
      "1594  SN2009ip  56885.1200    MJD      EFOSC       NTT    NaN          NaN   \n",
      "1595  SN2009ip  56885.1200    MJD      EFOSC       NTT    NaN          NaN   \n",
      "1596  SN2009ip  56916.2000    MJD      EFOSC       NTT    NaN          NaN   \n",
      "1597  SN2009ip  56924.0200    MJD      EFOSC       NTT    NaN          NaN   \n",
      "1598  SN2009ip  56924.0200    MJD      EFOSC       NTT    NaN          NaN   \n",
      "1599  SN2009ip  56924.0200    MJD      EFOSC       NTT    NaN          NaN   \n",
      "1600  SN2009ip  56929.2100    MJD      EFOSC       NTT    NaN          NaN   \n",
      "1601  SN2009ip  56929.2100    MJD      EFOSC       NTT    NaN          NaN   \n",
      "1602  SN2009ip  56929.2100    MJD      EFOSC       NTT    NaN          NaN   \n",
      "1603  SN2009ip  56975.0600    MJD      EFOSC       NTT    NaN          NaN   \n",
      "1604  SN2009ip  56975.0600    MJD      EFOSC       NTT    NaN          NaN   \n",
      "1605  SN2009ip  56975.0600    MJD      EFOSC       NTT    NaN          NaN   \n",
      "1606  SN2009ip  56975.0600    MJD      EFOSC       NTT    NaN          NaN   \n",
      "1607  SN2009ip  57014.0600    MJD      EFOSC       NTT    NaN          NaN   \n",
      "1608  SN2009ip  57014.0600    MJD      EFOSC       NTT    NaN          NaN   \n",
      "1609  SN2009ip  57014.0600    MJD      EFOSC       NTT    NaN          NaN   \n",
      "1610  SN2009ip  57014.0600    MJD      EFOSC       NTT    NaN          NaN   \n",
      "1611  SN2009ip  57278.0000    MJD       IRAC   Spitzer    NaN          NaN   \n",
      "1612  SN2009ip  57278.0000    MJD       IRAC   Spitzer    NaN          NaN   \n",
      "1613  SN2009ip  57617.0000    MJD       IRAC   Spitzer    NaN          NaN   \n",
      "1614  SN2009ip  57617.0000    MJD       IRAC   Spitzer    NaN          NaN   \n",
      "\n",
      "      magnitude  e_magnitude  zeropoint  band  bandset system upperlimit  \\\n",
      "0        18.130        0.090        NaN     R      NaN    NaN          F   \n",
      "1        18.110        0.130        NaN     I      NaN    NaN          F   \n",
      "2        18.510        0.180        NaN     V      NaN    NaN          F   \n",
      "3        20.990        0.370        NaN     V      NaN    NaN          F   \n",
      "4        20.430        0.030        NaN     R      NaN    NaN          F   \n",
      "5        21.060        0.050        NaN     V      NaN    NaN          F   \n",
      "6        20.700        0.170        NaN     V      NaN    NaN          F   \n",
      "7        20.730        0.200        NaN     V      NaN    NaN          F   \n",
      "8        19.780        0.240        NaN     R      NaN    NaN          F   \n",
      "9        20.170        0.080        NaN     R      NaN    NaN          F   \n",
      "10       20.720        0.320        NaN     V      NaN    NaN          F   \n",
      "11       20.820        0.250        NaN     V      NaN    NaN          F   \n",
      "12       20.180        0.200        NaN     R      NaN    NaN          F   \n",
      "13       20.960        0.270        NaN     V      NaN    NaN          F   \n",
      "14       20.618        0.288        NaN  UVW1      NaN   Vega          F   \n",
      "15       20.453        0.346        NaN     U      NaN   Vega          F   \n",
      "16       20.850          NaN        NaN     B      NaN   Vega          T   \n",
      "17       21.114        0.268        NaN  UVW2      NaN   Vega          F   \n",
      "18       19.921          NaN        NaN     V      NaN   Vega          T   \n",
      "19       20.808        0.295        NaN  UVM2      NaN   Vega          F   \n",
      "20       20.660        0.070        NaN     R      NaN    NaN          F   \n",
      "21       20.480        0.190        NaN     I      NaN    NaN          F   \n",
      "22       20.650        0.090        NaN     R      NaN    NaN          F   \n",
      "23       21.010        0.100        NaN     V      NaN    NaN          F   \n",
      "24       21.010        0.300        NaN     V      NaN    NaN          F   \n",
      "25       20.440        0.300        NaN     I      NaN    NaN          F   \n",
      "26       20.610        0.060        NaN     R      NaN    NaN          F   \n",
      "27       20.400        0.190        NaN     I      NaN    NaN          F   \n",
      "28       20.620        0.050        NaN     R      NaN    NaN          F   \n",
      "29       21.040        0.030        NaN     V      NaN    NaN          F   \n",
      "...         ...          ...        ...   ...      ...    ...        ...   \n",
      "1585     20.520        0.210        NaN     I  Johnson   Vega          F   \n",
      "1586     19.800        0.110        NaN     R  Johnson   Vega          F   \n",
      "1587     21.030        0.180        NaN     V  Johnson   Vega          F   \n",
      "1588     21.610        0.610        NaN     B  Johnson   Vega          F   \n",
      "1589     20.830        0.290        NaN     I  Johnson   Vega          F   \n",
      "1590     19.900        0.080        NaN     R  Johnson   Vega          F   \n",
      "1591     21.100        0.090        NaN     V  Johnson   Vega          F   \n",
      "1592     21.920        0.080        NaN     B  Johnson   Vega          F   \n",
      "1593     20.890        0.080        NaN     I  Johnson   Vega          F   \n",
      "1594     20.210        0.040        NaN     R  Johnson   Vega          F   \n",
      "1595     21.450        0.050        NaN     V  Johnson   Vega          F   \n",
      "1596     19.900        0.080        NaN     R  Johnson   Vega          F   \n",
      "1597     21.790        0.130        NaN     B  Johnson   Vega          F   \n",
      "1598     20.270        0.060        NaN     R  Johnson   Vega          F   \n",
      "1599     21.450        0.050        NaN     V  Johnson   Vega          F   \n",
      "1600     21.940        0.100        NaN     B  Johnson   Vega          F   \n",
      "1601     20.280        0.050        NaN     R  Johnson   Vega          F   \n",
      "1602     21.540        0.070        NaN     V  Johnson   Vega          F   \n",
      "1603     21.990        0.090        NaN     B  Johnson   Vega          F   \n",
      "1604     21.210        0.080        NaN     I  Johnson   Vega          F   \n",
      "1605     20.440        0.060        NaN     R  Johnson   Vega          F   \n",
      "1606     21.610        0.090        NaN     V  Johnson   Vega          F   \n",
      "1607     22.000        0.070        NaN     B  Johnson   Vega          F   \n",
      "1608     21.450        0.310        NaN     I  Johnson   Vega          F   \n",
      "1609     20.550        0.070        NaN     R  Johnson   Vega          F   \n",
      "1610     21.730        0.070        NaN     V  Johnson   Vega          F   \n",
      "1611     19.530        0.870        NaN    I1      NaN    NaN          F   \n",
      "1612     18.240        0.600        NaN    I2      NaN    NaN          F   \n",
      "1613     19.480        0.850        NaN    I1      NaN    NaN          F   \n",
      "1614     18.500        0.680        NaN    I2      NaN    NaN          F   \n",
      "\n",
      "      kcorrected  scorrected  mcorrected  \n",
      "0            NaN         NaN         NaN  \n",
      "1            NaN         NaN         NaN  \n",
      "2            NaN         NaN         NaN  \n",
      "3            NaN         NaN         NaN  \n",
      "4            NaN         NaN         NaN  \n",
      "5            NaN         NaN         NaN  \n",
      "6            NaN         NaN         NaN  \n",
      "7            NaN         NaN         NaN  \n",
      "8            NaN         NaN         NaN  \n",
      "9            NaN         NaN         NaN  \n",
      "10           NaN         NaN         NaN  \n",
      "11           NaN         NaN         NaN  \n",
      "12           NaN         NaN         NaN  \n",
      "13           NaN         NaN         NaN  \n",
      "14           NaN         NaN         NaN  \n",
      "15           NaN         NaN         NaN  \n",
      "16           NaN         NaN         NaN  \n",
      "17           NaN         NaN         NaN  \n",
      "18           NaN         NaN         NaN  \n",
      "19           NaN         NaN         NaN  \n",
      "20           NaN         NaN         NaN  \n",
      "21           NaN         NaN         NaN  \n",
      "22           NaN         NaN         NaN  \n",
      "23           NaN         NaN         NaN  \n",
      "24           NaN         NaN         NaN  \n",
      "25           NaN         NaN         NaN  \n",
      "26           NaN         NaN         NaN  \n",
      "27           NaN         NaN         NaN  \n",
      "28           NaN         NaN         NaN  \n",
      "29           NaN         NaN         NaN  \n",
      "...          ...         ...         ...  \n",
      "1585         NaN         NaN         NaN  \n",
      "1586         NaN         NaN         NaN  \n",
      "1587         NaN         NaN         NaN  \n",
      "1588         NaN         NaN         NaN  \n",
      "1589         NaN         NaN         NaN  \n",
      "1590         NaN         NaN         NaN  \n",
      "1591         NaN         NaN         NaN  \n",
      "1592         NaN         NaN         NaN  \n",
      "1593         NaN         NaN         NaN  \n",
      "1594         NaN         NaN         NaN  \n",
      "1595         NaN         NaN         NaN  \n",
      "1596         NaN         NaN         NaN  \n",
      "1597         NaN         NaN         NaN  \n",
      "1598         NaN         NaN         NaN  \n",
      "1599         NaN         NaN         NaN  \n",
      "1600         NaN         NaN         NaN  \n",
      "1601         NaN         NaN         NaN  \n",
      "1602         NaN         NaN         NaN  \n",
      "1603         NaN         NaN         NaN  \n",
      "1604         NaN         NaN         NaN  \n",
      "1605         NaN         NaN         NaN  \n",
      "1606         NaN         NaN         NaN  \n",
      "1607         NaN         NaN         NaN  \n",
      "1608         NaN         NaN         NaN  \n",
      "1609         NaN         NaN         NaN  \n",
      "1610         NaN         NaN         NaN  \n",
      "1611         NaN         NaN         NaN  \n",
      "1612         NaN         NaN         NaN  \n",
      "1613         NaN         NaN         NaN  \n",
      "1614         NaN         NaN         NaN  \n",
      "\n",
      "[1615 rows x 17 columns]>\n"
     ]
    }
   ],
   "source": [
    "# show data\n",
    "print(len(sn))\n",
    "print(sn.index)\n",
    "print(sn.columns)\n",
    "print(sn.head)"
   ]
  },
  {
   "cell_type": "code",
   "execution_count": 4,
   "metadata": {},
   "outputs": [
    {
     "name": "stdout",
     "output_type": "stream",
     "text": [
      "event = ['SN2009ip']\n",
      "u_time = ['MJD']\n",
      "instrument = [nan 'UVOT' 'EFOSC' 'IRAC']\n",
      "telescope = [nan 'Swift' 'NTT' 'Spitzer']\n",
      "model = [nan]\n",
      "realization = [nan]\n",
      "zeropoint = [nan]\n",
      "band = ['R' 'I' 'V' 'UVW1' 'U' 'B' 'UVW2' 'UVM2' 'H' 'J' 'KS' 'I1' 'I2']\n",
      "bandset = [nan 'Johnson' 'Swift']\n",
      "system = [nan 'Vega' 'Swift']\n",
      "upperlimit = ['F' 'T']\n",
      "kcorrected = [nan]\n",
      "scorrected = [nan]\n",
      "mcorrected = [nan]\n",
      "1615\n"
     ]
    }
   ],
   "source": [
    "# explore data\n",
    "for i in sn.columns:\n",
    "    if (i == 'time' or i == 'magnitude' or i == 'e_magnitude'):\n",
    "        continue\n",
    "    print(i + ' = {}'.format(sn[i].unique()))\n",
    "print(len(sn))"
   ]
  },
  {
   "cell_type": "code",
   "execution_count": 5,
   "metadata": {},
   "outputs": [
    {
     "name": "stdout",
     "output_type": "stream",
     "text": [
      "1569\n"
     ]
    }
   ],
   "source": [
    "# exclude\n",
    "x = sn.where(sn['upperlimit'] == 'F').dropna(subset = ['upperlimit']) # exclude upper limit\n",
    "x = x.where(x['band'] != 'I1').dropna(subset = ['band']) # exclude band I1\n",
    "x = x.where(x['band'] != 'I2').dropna(subset = ['band']) # exclude band I2\n",
    "sn = x\n",
    "print(len(sn))"
   ]
  },
  {
   "cell_type": "code",
   "execution_count": 6,
   "metadata": {},
   "outputs": [
    {
     "name": "stdout",
     "output_type": "stream",
     "text": [
      "Vega     1036\n",
      "Swift     214\n",
      "Name: system, dtype: int64\n",
      "1569\n",
      "Series([], Name: telescope, dtype: int64)\n",
      "Series([], Name: instrument, dtype: int64)\n"
     ]
    }
   ],
   "source": [
    "# show data\n",
    "print(sn['system'].value_counts())\n",
    "print(len(sn['system']))\n",
    "print(sn['telescope'].where(sn['system'].isna()).value_counts())\n",
    "print(sn['instrument'].where(sn['system'].isna()).value_counts())"
   ]
  },
  {
   "cell_type": "code",
   "execution_count": 7,
   "metadata": {},
   "outputs": [
    {
     "name": "stdout",
     "output_type": "stream",
     "text": [
      "1250\n"
     ]
    }
   ],
   "source": [
    "# exclude system == nan\n",
    "x = sn.dropna(subset = ['system'])\n",
    "sn = x\n",
    "print(len(sn))"
   ]
  },
  {
   "cell_type": "code",
   "execution_count": 8,
   "metadata": {},
   "outputs": [
    {
     "name": "stdout",
     "output_type": "stream",
     "text": [
      "event = ['SN2009ip']\n",
      "u_time = ['MJD']\n",
      "instrument = ['UVOT' 'EFOSC']\n",
      "telescope = ['Swift' 'NTT']\n",
      "model = [nan]\n",
      "realization = [nan]\n",
      "zeropoint = [nan]\n",
      "band = ['UVW1' 'U' 'UVW2' 'UVM2' 'B' 'I' 'R' 'V' 'H' 'J' 'KS']\n",
      "bandset = [nan 'Johnson' 'Swift']\n",
      "system = ['Vega' 'Swift']\n",
      "upperlimit = ['F']\n",
      "kcorrected = [nan]\n",
      "scorrected = [nan]\n",
      "mcorrected = [nan]\n",
      "1250\n"
     ]
    }
   ],
   "source": [
    "# explore data\n",
    "for i in sn.columns:\n",
    "    if (i == 'time' or i == 'magnitude' or i == 'e_magnitude'):\n",
    "        continue\n",
    "    print(i + ' = {}'.format(sn[i].unique()))\n",
    "print(len(sn))\n"
   ]
  },
  {
   "cell_type": "code",
   "execution_count": 13,
   "metadata": {},
   "outputs": [
    {
     "name": "stdout",
     "output_type": "stream",
     "text": [
      "Index(['event', 'time', 'u_time', 'instrument', 'telescope', 'model',\n",
      "       'realization', 'magnitude', 'e_magnitude', 'zeropoint', 'band',\n",
      "       'bandset', 'system', 'upperlimit', 'kcorrected', 'scorrected',\n",
      "       'mcorrected'],\n",
      "      dtype='object')\n"
     ]
    }
   ],
   "source": [
    "# Output to file\n",
    "# Swift == Vega system\n",
    "# https://swift.gsfc.nasa.gov/analysis/uvot_digest/zeropts.html\n",
    "# https://heasarc.gsfc.nasa.gov/docs/heasarc/caldb/swift/docs/uvot/uvot_caldb_zeropoints_10wa.pdf\n",
    "print(sn.columns)\n",
    "x = pd.DataFrame()\n",
    "x['MJD'] = sn['time']\n",
    "x['Vegamag'] = sn['magnitude']\n",
    "x['emag'] = sn['e_magnitude']\n",
    "x['band'] = sn['band']\n",
    "x.to_csv('D:\\\\Unknown 3rd project\\\\2009ip\\\\Default\\\\python\\\\01_01_sn2009ip_clean.dat', index=False)"
   ]
  }
 ],
 "metadata": {
  "kernelspec": {
   "display_name": "Python 3",
   "language": "python",
   "name": "python3"
  },
  "language_info": {
   "codemirror_mode": {
    "name": "ipython",
    "version": 3
   },
   "file_extension": ".py",
   "mimetype": "text/x-python",
   "name": "python",
   "nbconvert_exporter": "python",
   "pygments_lexer": "ipython3",
   "version": "3.6.3"
  }
 },
 "nbformat": 4,
 "nbformat_minor": 2
}
