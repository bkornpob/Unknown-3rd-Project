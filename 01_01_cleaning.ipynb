{
 "cells": [
  {
   "cell_type": "markdown",
   "metadata": {},
   "source": [
    "# Load and output\n",
    "\n",
    "- Require vega2ab.py\n",
    "- Load SN 2009ip from https://api.sne.space\n",
    "- Clean\n",
    "- Output to 01_01_sn2009ip_clean.dat"
   ]
  },
  {
   "cell_type": "code",
   "execution_count": 1,
   "metadata": {
    "collapsed": true
   },
   "outputs": [],
   "source": [
    "import pandas as pd\n",
    "from vega2ab import * \n",
    "\n",
    "# load data\n",
    "sn = pd.read_csv('https://api.sne.space/SN2009ip/photometry/time+u_time+instrument+telescope+model+realization+magnitude+e_magnitude+zeropoint+band+bandset+system+upperlimit+kcorrected+scorrected+mcorrected?format=csv')"
   ]
  },
  {
   "cell_type": "code",
   "execution_count": 2,
   "metadata": {},
   "outputs": [
    {
     "name": "stdout",
     "output_type": "stream",
     "text": [
      "1615\n",
      "RangeIndex(start=0, stop=1615, step=1)\n",
      "Index(['event', 'time', 'u_time', 'instrument', 'telescope', 'model',\n",
      "       'realization', 'magnitude', 'e_magnitude', 'zeropoint', 'band',\n",
      "       'bandset', 'system', 'upperlimit', 'kcorrected', 'scorrected',\n",
      "       'mcorrected'],\n",
      "      dtype='object')\n",
      "      event      time u_time instrument telescope  model  realization  \\\n",
      "0  SN2009ip  55073.60    MJD        NaN       NaN    NaN          NaN   \n",
      "1  SN2009ip  55073.64    MJD        NaN       NaN    NaN          NaN   \n",
      "2  SN2009ip  55073.74    MJD        NaN       NaN    NaN          NaN   \n",
      "3  SN2009ip  55080.42    MJD        NaN       NaN    NaN          NaN   \n",
      "4  SN2009ip  55081.06    MJD        NaN       NaN    NaN          NaN   \n",
      "\n",
      "   magnitude  e_magnitude  zeropoint band bandset system upperlimit  \\\n",
      "0      18.13         0.09        NaN    R     NaN    NaN          F   \n",
      "1      18.11         0.13        NaN    I     NaN    NaN          F   \n",
      "2      18.51         0.18        NaN    V     NaN    NaN          F   \n",
      "3      20.99         0.37        NaN    V     NaN    NaN          F   \n",
      "4      20.43         0.03        NaN    R     NaN    NaN          F   \n",
      "\n",
      "   kcorrected  scorrected  mcorrected  \n",
      "0         NaN         NaN         NaN  \n",
      "1         NaN         NaN         NaN  \n",
      "2         NaN         NaN         NaN  \n",
      "3         NaN         NaN         NaN  \n",
      "4         NaN         NaN         NaN  \n"
     ]
    }
   ],
   "source": [
    "# show data\n",
    "print(len(sn))\n",
    "print(sn.index)\n",
    "print(sn.columns)\n",
    "print(sn.head(5))"
   ]
  },
  {
   "cell_type": "code",
   "execution_count": 3,
   "metadata": {},
   "outputs": [
    {
     "name": "stdout",
     "output_type": "stream",
     "text": [
      "event = ['SN2009ip']\n",
      "u_time = ['MJD']\n",
      "instrument = [nan 'UVOT' 'EFOSC' 'IRAC']\n",
      "telescope = [nan 'Swift' 'NTT' 'Spitzer']\n",
      "model = [nan]\n",
      "realization = [nan]\n",
      "zeropoint = [nan]\n",
      "band = ['R' 'I' 'V' 'UVW1' 'U' 'B' 'UVW2' 'UVM2' 'H' 'J' 'KS' 'I1' 'I2']\n",
      "bandset = [nan 'Johnson' 'Swift']\n",
      "system = [nan 'Vega' 'Swift']\n",
      "upperlimit = ['F' 'T']\n",
      "kcorrected = [nan]\n",
      "scorrected = [nan]\n",
      "mcorrected = [nan]\n",
      "1615\n"
     ]
    }
   ],
   "source": [
    "# explore data\n",
    "for i in sn.columns:\n",
    "    if (i == 'time' or i == 'magnitude' or i == 'e_magnitude'):\n",
    "        continue\n",
    "    print(i + ' = {}'.format(sn[i].unique()))\n",
    "print(len(sn))"
   ]
  },
  {
   "cell_type": "code",
   "execution_count": 4,
   "metadata": {},
   "outputs": [
    {
     "name": "stdout",
     "output_type": "stream",
     "text": [
      "1569\n"
     ]
    }
   ],
   "source": [
    "# exclude\n",
    "x = sn.where(sn['upperlimit'] == 'F').dropna(subset = ['upperlimit']) # exclude upper limit\n",
    "x = x.where(x['band'] != 'I1').dropna(subset = ['band']) # exclude band I1\n",
    "x = x.where(x['band'] != 'I2').dropna(subset = ['band']) # exclude band I2\n",
    "sn = x\n",
    "print(len(sn))"
   ]
  },
  {
   "cell_type": "code",
   "execution_count": 5,
   "metadata": {},
   "outputs": [
    {
     "name": "stdout",
     "output_type": "stream",
     "text": [
      "Vega     1036\n",
      "Swift     214\n",
      "Name: system, dtype: int64\n",
      "1569\n",
      "Series([], Name: telescope, dtype: int64)\n",
      "Series([], Name: instrument, dtype: int64)\n"
     ]
    }
   ],
   "source": [
    "# show data\n",
    "print(sn['system'].value_counts())\n",
    "print(len(sn['system']))\n",
    "print(sn['telescope'].where(sn['system'].isna()).value_counts())\n",
    "print(sn['instrument'].where(sn['system'].isna()).value_counts())"
   ]
  },
  {
   "cell_type": "code",
   "execution_count": 6,
   "metadata": {},
   "outputs": [
    {
     "name": "stdout",
     "output_type": "stream",
     "text": [
      "1250\n"
     ]
    }
   ],
   "source": [
    "# exclude system == nan\n",
    "x = sn.dropna(subset = ['system'])\n",
    "sn = x\n",
    "print(len(sn))"
   ]
  },
  {
   "cell_type": "code",
   "execution_count": 7,
   "metadata": {},
   "outputs": [
    {
     "name": "stdout",
     "output_type": "stream",
     "text": [
      "event = ['SN2009ip']\n",
      "u_time = ['MJD']\n",
      "instrument = ['UVOT' 'EFOSC']\n",
      "telescope = ['Swift' 'NTT']\n",
      "model = [nan]\n",
      "realization = [nan]\n",
      "zeropoint = [nan]\n",
      "band = ['UVW1' 'U' 'UVW2' 'UVM2' 'B' 'I' 'R' 'V' 'H' 'J' 'KS']\n",
      "bandset = [nan 'Johnson' 'Swift']\n",
      "system = ['Vega' 'Swift']\n",
      "upperlimit = ['F']\n",
      "kcorrected = [nan]\n",
      "scorrected = [nan]\n",
      "mcorrected = [nan]\n",
      "1250\n"
     ]
    }
   ],
   "source": [
    "# explore data\n",
    "for i in sn.columns:\n",
    "    if (i == 'time' or i == 'magnitude' or i == 'e_magnitude'):\n",
    "        continue\n",
    "    print(i + ' = {}'.format(sn[i].unique()))\n",
    "print(len(sn))\n"
   ]
  },
  {
   "cell_type": "code",
   "execution_count": 8,
   "metadata": {},
   "outputs": [
    {
     "name": "stdout",
     "output_type": "stream",
     "text": [
      "Index(['event', 'time', 'u_time', 'instrument', 'telescope', 'model',\n",
      "       'realization', 'magnitude', 'e_magnitude', 'zeropoint', 'band',\n",
      "       'bandset', 'system', 'upperlimit', 'kcorrected', 'scorrected',\n",
      "       'mcorrected'],\n",
      "      dtype='object')\n"
     ]
    }
   ],
   "source": [
    "# Output to file\n",
    "# Swift == Vega system\n",
    "# https://swift.gsfc.nasa.gov/analysis/uvot_digest/zeropts.html\n",
    "# https://heasarc.gsfc.nasa.gov/docs/heasarc/caldb/swift/docs/uvot/uvot_caldb_zeropoints_10wa.pdf\n",
    "print(sn.columns)\n",
    "x = pd.DataFrame()\n",
    "x['MJD'] = sn['time']\n",
    "x['ABmag'] = vega2AB(sn['band'].values, sn['magnitude'].values)\n",
    "x['emag'] = sn['e_magnitude']\n",
    "x['band'] = sn['band']\n",
    "x.to_csv('D:\\\\Unknown 3rd project\\\\2009ip\\\\Default\\\\python\\\\01_01_sn2009ip_clean.dat', index=False)"
   ]
  }
 ],
 "metadata": {
  "kernelspec": {
   "display_name": "Python 3",
   "language": "python",
   "name": "python3"
  },
  "language_info": {
   "codemirror_mode": {
    "name": "ipython",
    "version": 3
   },
   "file_extension": ".py",
   "mimetype": "text/x-python",
   "name": "python",
   "nbconvert_exporter": "python",
   "pygments_lexer": "ipython3",
   "version": "3.6.3"
  }
 },
 "nbformat": 4,
 "nbformat_minor": 2
}
